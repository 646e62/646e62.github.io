{
 "cells": [
  {
   "cell_type": "markdown",
   "id": "4cab21ea-66f1-439c-8a49-99d27d867a90",
   "metadata": {},
   "source": [
    "# [notebook] *Criminal Code* s 46 expert system example"
   ]
  },
  {
   "cell_type": "markdown",
   "id": "44122440-d49c-43be-bd14-d54859883f00",
   "metadata": {},
   "source": [
    "## rules_constants.py\n",
    "\n",
    "This file contains the questions that, once answered, can generate the factual matrix needed to determine whether the defendant committed high treason. The conditional flow is clumsy, but the questions employed that way for now may be useful for GPT-3.5-style prompts at a later point."
   ]
  },
  {
   "cell_type": "code",
   "execution_count": 5,
   "id": "f780faa5-335b-48d5-bb1c-e6829b553229",
   "metadata": {},
   "outputs": [],
   "source": [
    "HIGH_TREASON_RULES = {\n",
    "    \"sovereign\": [(\"Did the defendant kill the sovereign?\",\n",
    "                   [\"kill\"]),\n",
    "                  (\"Did the defendant attempt to kill the sovereign?\",\n",
    "                   [\"kill\", \"attempt\"]),\n",
    "                  (\"Did the defendant do bodily harm to the sovereign tending to cause death?\",\n",
    "                   [\"bodily harm\", \"tending to death\"]),\n",
    "                  (\"Did the defendant do bodily harm to the sovereign tending to cause destruction?\",\n",
    "                   [\"bodily harm\", \"tending to destruction\"]),\n",
    "                  (\"Did the defendant maim the sovereign?\",\n",
    "                   [\"maim\"]),\n",
    "                  (\"Did the defendant wound the sovereign?\",\n",
    "                   [\"wound\"]),\n",
    "                  (\"Did the defendant imprison the sovereign?\",\n",
    "                   [\"imprison\"]),\n",
    "                  (\"Did the defendant restrain the sovereign?\",\n",
    "                   [\"restrain\"])],\n",
    "    \"canada\": [(\"Did the defendant levy war against Canada?\",\n",
    "                [\"levy war\"]),\n",
    "               (\"Did the defendant prepare to levy war against Canada?\",\n",
    "                [\"prepare\", \"levy war\"]),\n",
    "               (\"Did the defendant assist an enemy at war with Canada?\",\n",
    "                [\"assist warring enemy\"]),\n",
    "               (\"Did the defendant assist an armed force hostily engaged with Canadian Forces?\",\n",
    "                [\"assist hostile force\"])]}\n"
   ]
  },
  {
   "cell_type": "markdown",
   "id": "9c1dd905-99f6-4728-bf53-87304906217e",
   "metadata": {
    "tags": []
   },
   "source": [
    "## facts.py\n",
    "\n",
    "At first glance there may be some advantage to having the get_actions() functions return True/False, rather than a list. After all, if any one condition is met, the defendant committed high treason. But this overlooks the fact that a defendant may have committed the same offence through different means. A person who levies war against Canada AND assists a separate armed force hostily engaged with Canadian Forces commits high treason twice. Similarly, a person may have caused the sovereign bodily harm that amounts to both maiming and bodily harm tending to cause death, and can be fairly charged and tried for both offences (albeit not convicted of both, per *Stinchcombe*.) A list allows the program to record multiple "
   ]
  },
  {
   "cell_type": "code",
   "execution_count": 96,
   "id": "7da1034c-9dd9-4e2f-a8d5-f5a1514aa484",
   "metadata": {},
   "outputs": [],
   "source": [
    "'''\n",
    "Generates a factual matrix that can be used to determine whether the facts of\n",
    "the case make out a particular offence.\n",
    "'''\n",
    "\n",
    "def get_sovereign_actions():\n",
    "    \"\"\"\n",
    "    Ask the user questions related to actions against the sovereign.\n",
    "    \"\"\"\n",
    "\n",
    "    actions = []\n",
    "#    for question in rules_constants.HIGH_TREASON_RULES[\"sovereign\"]:\n",
    "    for question in HIGH_TREASON_RULES[\"sovereign\"]:\n",
    "        response = input(question[0] + \" (yes/no): \")\n",
    "        if response.lower() == 'yes':\n",
    "            actions.append((\"sovereign\", question[1]))\n",
    "    \n",
    "    return actions\n",
    "\n",
    "\n",
    "def get_canada_actions():\n",
    "    \"\"\"\n",
    "    Ask the user questions related to actions against Canada.\n",
    "    \"\"\"\n",
    "\n",
    "    actions = []\n",
    "#    for question in rules_constants.HIGH_TREASON_RULES[\"canada\"]:\n",
    "    for question in HIGH_TREASON_RULES[\"canada\"]:\n",
    "        response = input(question[0] + \" (yes/no): \")\n",
    "        if response.lower() == 'yes':\n",
    "            actions.append((\"canada\", question[1]))\n",
    "\n",
    "    return actions\n",
    "\n",
    "\n",
    "## Facts\n",
    "def high_treason_facts(victim_name):\n",
    "    \"\"\"\n",
    "    Asks the user questions to determine if the facts of the case make out the offence of high treason.\n",
    "    \"\"\"\n",
    "    actions = []\n",
    "\n",
    "    if victim_name.lower() == 'sovereign':\n",
    "        actions = get_sovereign_actions()\n",
    "    elif victim_name.lower() == 'canada':\n",
    "        actions = get_canada_actions()\n",
    "\n",
    "    return actions"
   ]
  },
  {
   "cell_type": "markdown",
   "id": "ce829d90-dae1-4369-998c-5ff26f886521",
   "metadata": {},
   "source": [
    "## rules.py"
   ]
  },
  {
   "cell_type": "code",
   "execution_count": 87,
   "id": "b795b844-9a61-4a15-a852-e2299bba04a4",
   "metadata": {},
   "outputs": [
    {
     "data": {
      "text/plain": [
       "'\\nsearch_key = \"key2\"\\nsearch_tuple = (\"C\", 3)\\n\\nif search_key in my_dict:\\n    value = my_dict[search_key]\\n    if isinstance(value, list) and search_tuple in value:\\n        print(\"True\")\\n    else:\\n        print(\"False\")\\nelse:\\n    print(\"False\")\\n'"
      ]
     },
     "execution_count": 87,
     "metadata": {},
     "output_type": "execute_result"
    }
   ],
   "source": [
    "'''\n",
    "Rules determining whether a factual matrix corresponds to offence elements.\n",
    "'''\n",
    "\n",
    "# import rules_constants\n",
    "\n",
    "# High treason\n",
    "## Actions\n",
    "\n",
    "## Rules\n",
    "\n",
    "def high_treason_rules(facts):\n",
    "    \"\"\"\n",
    "    Checks if the facts of the case make out the offence of high treason.\n",
    "    \"\"\"\n",
    "    # Check if any of the actions in the facts are in the list of high treason actions\n",
    "    #print(facts)\n",
    "    #print(facts.actions)\n",
    "    #print(HIGH_TREASON_RULES)\n",
    "    for action in facts.actions:\n",
    "        complainant_key = action[0]\n",
    "        action_value = action[1]\n",
    "        if complainant_key in HIGH_TREASON_RULES:\n",
    "            print(complainant_key, action_value)\n",
    "            tuple_list = HIGH_TREASON_RULES[complainant_key]\n",
    "            for item in tuple_list:\n",
    "                print(item)\n",
    "                if action_value == item[1]:\n",
    "                    return True\n",
    "        else:\n",
    "            return False\n",
    "\n",
    "# Treason\n",
    "## Actions\n"
   ]
  },
  {
   "cell_type": "markdown",
   "id": "cad45e97-85da-469a-9f21-ba92630547f6",
   "metadata": {
    "jp-MarkdownHeadingCollapsed": true,
    "tags": []
   },
   "source": [
    "## models.py"
   ]
  },
  {
   "cell_type": "code",
   "execution_count": 7,
   "id": "ce89e0a6-7e6b-452f-bfa5-29b6e8c24c71",
   "metadata": {},
   "outputs": [],
   "source": [
    "class Facts:\n",
    "    \"\"\"\n",
    "    A basic class capable of handling the minimum facts required for a high \n",
    "    treason offence.\n",
    "\n",
    "    Attributes:\n",
    "        victim_name (str): The name of the victim of the offence.\n",
    "        offence_date (str): The date of the offence.\n",
    "        jurisdiction (str): The jurisdiction in which the offence took place.\n",
    "        actions (list): A list of actions that the defendant took against the \n",
    "            victim.\n",
    "        role (list): A list of roles that the defendant played in the offence.\n",
    "\n",
    "    A Facts object should account for one offence and offender. Any potential\n",
    "    path to a conviction should be represented by a distinct Facts object. \n",
    "    Multiple offences or offenders should be represented by multiple Facts \n",
    "    objects.\n",
    "    \"\"\"\n",
    "\n",
    "    def __init__(self, victim_name, offence_date, jurisdiction, actions=None, role=None):\n",
    "        self.victim_name = victim_name\n",
    "        self.offence_date = offence_date\n",
    "        self.jurisdiction = jurisdiction\n",
    "        self.actions = actions if actions is not None else []\n",
    "        self.role = role if role is not None else []\n",
    "\n",
    "class Complainant:\n",
    "    \"\"\"\n",
    "    Creates a complainant instance. Necessary to the extent that some offences \n",
    "    only apply to complainants with certain characteristics, and to the extent\n",
    "    that some offences will involve multiple complainants who need to be kept\n",
    "    distinct from one another.\n",
    "    \"\"\"\n",
    "    def __init__(self, name=None, age=None, type=None):\n",
    "        self.name = name\n",
    "        self.age = age\n",
    "        self.type = type\n",
    "\n",
    "class Defendant:\n",
    "    \"\"\"\n",
    "    Creates a defendant instance. Necessary to the extent that some offences \n",
    "    only apply to defendants with certain characteristics, and to the extent\n",
    "    that some offences will involve multiple defendants who need to be kept\n",
    "    distinct from one another.\n",
    "    \"\"\"\n",
    "    def __init__(self, name=None, age=None, liability=None):\n",
    "        self.name = name\n",
    "        self.age = age\n",
    "        self.liability = liability\n",
    "    \n",
    "    # Rather than giving Defendant a liability attribute, it might be better to\n",
    "    # relegate liability to "
   ]
  },
  {
   "cell_type": "markdown",
   "id": "2f48e73f-425b-494f-8423-82e6da5f3712",
   "metadata": {
    "jp-MarkdownHeadingCollapsed": true,
    "tags": []
   },
   "source": [
    "## input_correction.py"
   ]
  },
  {
   "cell_type": "code",
   "execution_count": 8,
   "id": "37976b7d-7ab5-4d74-86db-e1cd76f2cc33",
   "metadata": {},
   "outputs": [],
   "source": [
    "\"\"\"\n",
    "Functions used to process input strings and correct them to a standard format.\n",
    "\"\"\"\n",
    "\n",
    "# High treason\n",
    "\n",
    "def standardize_sovereign_names(name):\n",
    "    \"\"\"\n",
    "    This function takes a name and standardizes it to 'Sovereign' if it matches any of the known aliases.\n",
    "    \"\"\"\n",
    "    known_aliases = ('queen', 'king', 'queen elizabeth', 'king charles')\n",
    "    if name.lower() in known_aliases:\n",
    "        return 'sovereign'\n",
    "    else:\n",
    "        return name\n",
    "\n",
    "def standardize_canada_names(name):\n",
    "    \"\"\"\n",
    "    This function takes a name and standardizes it to 'Canada' if it matches any of the known aliases.\n",
    "    \"\"\"\n",
    "    known_aliases = ('nation of canada', 'canadian people', 'canadian military')\n",
    "    if name.lower() in known_aliases:\n",
    "        return 'canada'\n",
    "    else:\n",
    "        return name\n",
    "\n",
    "# Treason\n",
    "\n",
    "def treason_location_type(input_string: str) -> str:\n",
    "    \"\"\"\n",
    "    This function helps determine whether a string entity is a province or a \n",
    "    federally-regulated territory for the purpose of determining whether a \n",
    "    defendant has committed treason.\n",
    "    \"\"\"\n",
    "    input_string = input_string.replace('.', '')  # Remove periods from input\n",
    "\n",
    "    # Dictionary mapping province names, abbreviations and territory names, abbreviations to their corresponding types\n",
    "    locations = {\n",
    "        \"alberta\": \"province\",\n",
    "        \"ab\": \"province\",\n",
    "        \"alta\": \"province\",\n",
    "        \"british columbia\": \"province\",\n",
    "        \"bc\": \"province\",\n",
    "        \"manitoba\": \"province\",\n",
    "        \"mb\": \"province\",\n",
    "        \"man\": \"province\",\n",
    "        \"new brunswick\": \"province\",\n",
    "        \"nb\": \"province\",\n",
    "        \"newfoundland and labrador\": \"province\",\n",
    "        \"nl\": \"province\",\n",
    "        \"nova scotia\": \"province\",\n",
    "        \"ns\": \"province\",\n",
    "        \"ontario\": \"province\",\n",
    "        \"on\": \"province\",\n",
    "        \"ont\": \"province\",\n",
    "        \"prince edward island\": \"province\",\n",
    "        \"pei\": \"province\",\n",
    "        \"quebec\": \"province\",\n",
    "        \"qc\": \"province\",\n",
    "        \"que\": \"province\",\n",
    "        \"saskatchewan\": \"province\",\n",
    "        \"sk\": \"province\",\n",
    "        \"sask\": \"province\",\n",
    "        \"northwest territories\": \"canada\",\n",
    "        \"nt\": \"canada\",\n",
    "        \"nwt\": \"canada\",\n",
    "        \"nunavut\": \"canada\",\n",
    "        \"nu\": \"canada\",\n",
    "        \"nvt\": \"canada\",\n",
    "        \"yukon\": \"canada\",\n",
    "        \"yt\": \"canada\"\n",
    "    }\n",
    "\n",
    "    # Return the corresponding value if the input string is in the dictionary, else return \"Unknown\"\n",
    "    return locations.get(input_string.lower(), \"Unknown\")\n"
   ]
  },
  {
   "cell_type": "markdown",
   "id": "a3573126-b2ef-484a-b5c8-64310c558d85",
   "metadata": {
    "tags": []
   },
   "source": [
    "## main.py\n",
    "\n",
    "This function executes the program. It creates a Facts object by canvassing the minimum number of questions for the offence's factual matrix. Once created, Facts is passed to the rules set which returns the final result.\n",
    "\n",
    "The function is limited to high treason as defined in *Criminal Code* s 46, and thus has this rule set coded into tthe function. Future versions should modularize this rule set call."
   ]
  },
  {
   "cell_type": "code",
   "execution_count": 101,
   "id": "16d54340-daf8-4a7b-9b6c-a6cd734037d5",
   "metadata": {},
   "outputs": [
    {
     "name": "stdout",
     "output_type": "stream",
     "text": [
      "Please enter the facts of the case:\n"
     ]
    },
    {
     "name": "stdin",
     "output_type": "stream",
     "text": [
      "Who is the victim?  canada\n",
      "Date of the offence (YYYY-MM-DD):  1992\n",
      "Jurisdiction:  sk\n",
      "Did the defendant levy war against Canada? (yes/no):  no\n",
      "Did the defendant prepare to levy war against Canada? (yes/no):  no\n",
      "Did the defendant assist an enemy at war with Canada? (yes/no):  no\n",
      "Did the defendant assist an armed force hostily engaged with Canadian Forces? (yes/no):  no\n"
     ]
    }
   ],
   "source": [
    "# from facts import high_treason_facts\n",
    "# from rules import high_treason_rules\n",
    "# from models import Facts, Complainant\n",
    "# from input_correction import standardize_sovereign_names, standardize_canada_names\n",
    "\n",
    "\n",
    "def create_facts():\n",
    "    \"\"\"\n",
    "    Creates a Facts object that can then be read using the rule base.\n",
    "    \"\"\"\n",
    "\n",
    "    print(\"Please enter the facts of the case:\")\n",
    "\n",
    "    victim_name = input(\"Who is the victim? \")\n",
    "    victim_name = standardize_sovereign_names(victim_name)\n",
    "    victim_name = standardize_canada_names(victim_name)\n",
    "    complainant = Complainant(victim_name)\n",
    "\n",
    "    offence_date = input(\"Date of the offence (YYYY-MM-DD): \")\n",
    "    jurisdiction = input(\"Jurisdiction: \")\n",
    "\n",
    "    actions = high_treason_facts(victim_name)\n",
    "\n",
    "    return Facts(complainant.name, offence_date, jurisdiction, actions)\n",
    "\n",
    "facts = create_facts()"
   ]
  },
  {
   "cell_type": "code",
   "execution_count": 102,
   "id": "d2d84bc1-ed57-4c81-9b96-de9172c63076",
   "metadata": {},
   "outputs": [
    {
     "name": "stdout",
     "output_type": "stream",
     "text": [
      "No offence detected.\n"
     ]
    }
   ],
   "source": [
    "if high_treason_rules(facts):\n",
    "    print(\"High treason committed.\")\n",
    "else:\n",
    "    print(\"No offence detected.\")"
   ]
  }
 ],
 "metadata": {
  "kernelspec": {
   "display_name": "Python 3 (ipykernel)",
   "language": "python",
   "name": "python3"
  },
  "language_info": {
   "codemirror_mode": {
    "name": "ipython",
    "version": 3
   },
   "file_extension": ".py",
   "mimetype": "text/x-python",
   "name": "python",
   "nbconvert_exporter": "python",
   "pygments_lexer": "ipython3",
   "version": "3.9.2"
  }
 },
 "nbformat": 4,
 "nbformat_minor": 5
}
