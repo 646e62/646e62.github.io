{
 "cells": [
  {
   "cell_type": "markdown",
   "id": "d61347e4-5b14-44a2-a34f-ad5f7d0ec09b",
   "metadata": {},
   "source": [
    "# Basic statutory expert system 3 — punishment"
   ]
  },
  {
   "cell_type": "markdown",
   "id": "fc55e5ef-8dc4-4c97-813b-37a46809efde",
   "metadata": {},
   "source": [
    "Punishment for high treason\n",
    "\n",
    "47 (1) Every one who commits high treason is guilty of an indictable offence and shall be sentenced to imprisonment for life.\n",
    "\n",
    "\n",
    "745 Subject to section 745.1, the sentence to be pronounced against a person who is to be sentenced to imprisonment for life shall be\n",
    "\n",
    "(a) in respect of a person who has been convicted of high treason or first degree murder, that the person be sentenced to imprisonment for life without eligibility for parole until the person has served twenty-five years of the sentence;\n",
    "\n"
   ]
  }
 ],
 "metadata": {
  "kernelspec": {
   "display_name": "Python 3 (ipykernel)",
   "language": "python",
   "name": "python3"
  },
  "language_info": {
   "codemirror_mode": {
    "name": "ipython",
    "version": 3
   },
   "file_extension": ".py",
   "mimetype": "text/x-python",
   "name": "python",
   "nbconvert_exporter": "python",
   "pygments_lexer": "ipython3",
   "version": "3.9.2"
  }
 },
 "nbformat": 4,
 "nbformat_minor": 5
}
