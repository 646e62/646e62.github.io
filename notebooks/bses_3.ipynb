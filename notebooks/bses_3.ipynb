{
 "cells": [
  {
   "cell_type": "markdown",
   "id": "9240996f-5c83-48d7-8d04-5f50c31db78f",
   "metadata": {},
   "source": [
    "# Basic statutory expert system 3 — case law\n",
    "\n",
    "* Introduce the ```Case```, ```Journal```, and ```Offence``` classes and sort out how they relate to each other\n",
    "    * Inter-object dependencies\n",
    "    * Hierarchical relationships\n",
    "* Move the high treason functions into an ```Offence``` instance\n",
    "* Create a ```Journal``` instance\n",
    "* Create a ```Case``` instance\n",
    "* "
   ]
  },
  {
   "cell_type": "markdown",
   "id": "98153c45-b5c1-4bc2-ae82-3bf326461f3a",
   "metadata": {},
   "source": [
    "## Models\n",
    "\n",
    "The first step in creating an ```Offence``` class is to determine what's needed to accommodate the offence framework currently contained in the ```main.py``` functions.\n",
    "\n",
    "* ```HIGH_TREASON_RULES```\n",
    "* ```high_treason_rules()```\n",
    "* ```verify_high_treason()```"
   ]
  },
  {
   "cell_type": "code",
   "execution_count": 40,
   "id": "413352ca-d946-4256-baad-ffe5342678a9",
   "metadata": {},
   "outputs": [],
   "source": [
    "class Offence:\n",
    "    \n",
    "    def __init__(self,\n",
    "                 offence_name = None,\n",
    "                 offence_section = None,\n",
    "                 punishment = None,\n",
    "                 punishment_section = None,\n",
    "                 offence_text = None,\n",
    "                 offence_elements = None,\n",
    "                 offence_rules = None\n",
    "                 ):\n",
    "        \n",
    "        self.offence_name = offence_name\n",
    "        self.offence_section = offence_section\n",
    "        self.punishment = punishment\n",
    "        self.punishment_section = punishment_section\n",
    "        self.offence_text = offence_text\n",
    "        self.offence_elements = offence_elements\n",
    "        self.offence_rules = offence_rules\n",
    "        \n",
    "        "
   ]
  },
  {
   "cell_type": "code",
   "execution_count": null,
   "id": "e9c4e21a-822c-41df-97e2-d0c76f74b089",
   "metadata": {},
   "outputs": [],
   "source": []
  },
  {
   "cell_type": "code",
   "execution_count": 37,
   "id": "c39d1813-60b0-4ff6-ac0c-f67e2e20f7e3",
   "metadata": {
    "jupyter": {
     "source_hidden": true
    },
    "tags": []
   },
   "outputs": [],
   "source": [
    "cc_s_2_definitions = {\n",
    "    \"act\": \n",
    "    ((\"Act includes\\n\\t(a) an Act of Parliament,\"\n",
    "      \"\\n\\t(b) an Act of the legislature of the former Province of Canada,\"\n",
    "      \"\\n\\t(c) an Act of the legislature of a province, and\"\n",
    "      \"\\n\\t(d) an Act or ordinance of the legislature of a province, territory\"\n",
    "      \" or place in force at the time that province, territory or place became\"\n",
    "      \"a province of Canada.\"\n",
    "     ), \n",
    "     (\"S’entend notamment :\\n\\ta) d’une loi fédérale;\"\n",
    "     \n",
    "     )\\n\\tb) d’une loi de la législature d l’ancienne province du Canada;\\n\\tc) d’une loi provinciale;\\n\\td) d’une loi ou ordonnance de la législature d’une province, d’un territoire ou d’un endroit, en vigueur au moment où cette province, ce territoire ou cet endroit est devenu une province du Canada.\", \"loi\"),\n",
    "    \"appearance notice\": \n",
    "    (\"appearance notice means a notice in Form 9 issued \\\n",
    "    by a peace officer.\", \"Citation selon la formule 9, délivrée par un agent \\\n",
    "    de la paix.\", \"citation à comparaître\"),\n",
    "    \"associated personnel\": \n",
    "    (\"associated personnel means persons who are\\n\\t\\\n",
    "    (a) assigned by a government or an intergovernmental organization with the\\\n",
    "     agreement of the competent organ of the United Nations,\\n\\t(b) engaged by\\\n",
    "     the Secretary-General of the United Nations, by a specialized agency of \\\n",
    "     the United Nations or by the International Atomic Energy Agency, or\\n\\t\\\n",
    "    (c) deployed by a humanitarian non-governmental organization or agency \\\n",
    "    under an agreement with the Secretary-General of the United Nations, by a \\\n",
    "    specialized agency of the United Nations or by the International Atomic \\\n",
    "    Energy Agency,\\nto carry out activities in support of the fulfilment of \\\n",
    "    the mandate of a United Nations operation\", \"Les personnes ci-après qui \\\n",
    "    exercent des activités dans le cadre d’une opération des Nations Unies :\\\n",
    "    \\n\\ta) les personnes affectées par un gouvernement ou une organisation \\\n",
    "    intergouvernementale avec l’accord de l’organe compétent de l’Organisation\\\n",
    "     des Nations Unies;\\n\\tb) les personnes engagées par le Secrétaire général\\\n",
    "     de l’Organisation des Nations Unies, par une institution spécialisée de \\\n",
    "    cette organisation ou par l’Agence internationale de l’énergie atomique; \\\n",
    "    \\n\\tc) les personnes affectées par une organisation non gouvernementale \\\n",
    "    humanitaire en vertu d’un accord avec le Secrétaire général de \\\n",
    "    l’Organisation des Nations Unies, par une institution spécialisée de cette\\\n",
    "     organisation ou par l’Agence internationale de l’énergie atomique.\", \n",
    "    \"personnel associé\"),\n",
    "    \"attorney general\": \n",
    "    (\"(a) with respect to proceedings to which this Act applies, means the \\\n",
    "    Attorney General or Solicitor General of the province in which those \\\n",
    "    proceedings are taken and includes his or her lawful deputy or, if those \\\n",
    "    proceedings are referred to in subsection 2.3(1), the Attorney General of \\\n",
    "    Canada or the Attorney General or Solicitor General of the province in \\\n",
    "    which those proceedings are taken and includes the lawful deputy of any of\\\n",
    "     them,\\n\\t(b) means the Attorney General of Canada and includes his or her\\\n",
    "     lawful deputy with respect to\\n\\t\\t(i) Yukon, the Northwest Territories \\\n",
    "    and Nunavut, or\\n\\t\\t(ii) proceedings commenced at the instance of the \\\n",
    "    Government of Canada and conducted by or on behalf of that Government in \\\n",
    "    respect of an offence under any Act of Parliament — other than this Act or\\\n",
    "     the Canada Elections Act — or any regulation made under such an Act, and\\\n",
    "    \\n\\t(c) means the Director of Public Prosecutions appointed under \\\n",
    "    subsection 3(1) of the Director of Public Prosecutions Act with respect to\\\n",
    "     proceedings in relation to an offence under the Canada Elections Act;\",),\n",
    "    \n",
    "    \n",
    "}"
   ]
  }
 ],
 "metadata": {
  "kernelspec": {
   "display_name": "Python 3 (ipykernel)",
   "language": "python",
   "name": "python3"
  },
  "language_info": {
   "codemirror_mode": {
    "name": "ipython",
    "version": 3
   },
   "file_extension": ".py",
   "mimetype": "text/x-python",
   "name": "python",
   "nbconvert_exporter": "python",
   "pygments_lexer": "ipython3",
   "version": "3.9.2"
  }
 },
 "nbformat": 4,
 "nbformat_minor": 5
}
