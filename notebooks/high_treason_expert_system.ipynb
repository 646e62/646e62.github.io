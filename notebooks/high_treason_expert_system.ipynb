{
 "cells": [
  {
   "cell_type": "markdown",
   "id": "4cab21ea-66f1-439c-8a49-99d27d867a90",
   "metadata": {},
   "source": [
    "# *Criminal Code* s 46 expert system example"
   ]
  },
  {
   "cell_type": "markdown",
   "id": "44122440-d49c-43be-bd14-d54859883f00",
   "metadata": {},
   "source": [
    "## rules_constants.py\n",
    "\n",
    "This file contains the questions that, once answered, can generate the factual matrix needed to determine whether the defendant committed high treason. The conditional flow is clumsy, but the questions employed that way for now may be useful for GPT-3.5-style prompts at a later point."
   ]
  },
  {
   "cell_type": "code",
   "execution_count": 5,
   "id": "f780faa5-335b-48d5-bb1c-e6829b553229",
   "metadata": {},
   "outputs": [],
   "source": [
    "HIGH_TREASON_RULES = {\n",
    "    \"sovereign\": [(\"Did the defendant kill the sovereign?\",\n",
    "                   [\"kill\"]),\n",
    "                  (\"Did the defendant attempt to kill the sovereign?\",\n",
    "                   [\"kill\", \"attempt\"]),\n",
    "                  (\"Did the defendant do bodily harm to the sovereign tending to cause death?\",\n",
    "                   [\"bodily harm\", \"tending to death\"]),\n",
    "                  (\"Did the defendant do bodily harm to the sovereign tending to cause destruction?\",\n",
    "                   [\"bodily harm\", \"tending to destruction\"]),\n",
    "                  (\"Did the defendant maim the sovereign?\",\n",
    "                   [\"maim\"]),\n",
    "                  (\"Did the defendant wound the sovereign?\",\n",
    "                   [\"wound\"]),\n",
    "                  (\"Did the defendant imprison the sovereign?\",\n",
    "                   [\"imprison\"]),\n",
    "                  (\"Did the defendant restrain the sovereign?\",\n",
    "                   [\"restrain\"])],\n",
    "    \"canada\": [(\"Did the defendant levy war against Canada?\",\n",
    "                [\"levy war\"]),\n",
    "               (\"Did the defendant prepare to levy war against Canada?\",\n",
    "                [\"prepare\", \"levy war\"]),\n",
    "               (\"Did the defendant assist an enemy at war with Canada?\",\n",
    "                [\"assist warring enemy\"]),\n",
    "               (\"Did the defendant assist an armed force hostily engaged with Canadian Forces?\",\n",
    "                [\"assist hostile force\"])]}\n"
   ]
  },
  {
   "cell_type": "markdown",
   "id": "9c1dd905-99f6-4728-bf53-87304906217e",
   "metadata": {
    "tags": []
   },
   "source": [
    "## facts.py\n",
    "\n",
    "```\n",
    "'''\n",
    "Generates a factual matrix that can be used to determine whether the facts of\n",
    "the case make out a particular offence.\n",
    "'''\n",
    "```\n",
    "\n",
    "At first glance there may be some advantage to having the get_actions() functions return True/False, rather than a list. After all, if any one condition is met, the defendant committed high treason. But this overlooks the fact that a defendant may have committed the same offence through different means. A person who levies war against Canada AND assists a separate armed force hostily engaged with Canadian Forces commits high treason twice. Similarly, a person may have caused the sovereign bodily harm that amounts to both maiming and bodily harm tending to cause death, and can be fairly charged and tried for both offences (albeit not convicted of both, per *Stinchcombe*.) A list allows the program to record multiple offence instances using fewer passes. Lists save time and ensure the program remains extensible."
   ]
  },
  {
   "cell_type": "code",
   "execution_count": 122,
   "id": "7da1034c-9dd9-4e2f-a8d5-f5a1514aa484",
   "metadata": {},
   "outputs": [],
   "source": [
    "def get_sovereign_actions() -> list:\n",
    "    \"\"\"\n",
    "    Ask the user questions related to actions against the sovereign.\n",
    "    \"\"\"\n",
    "\n",
    "    actions = []\n",
    "    for question in HIGH_TREASON_RULES[\"sovereign\"]:\n",
    "        response = input(question[0] + \" (yes/no): \")\n",
    "        if response.lower() == 'yes':\n",
    "            actions.append((\"sovereign\", question[1]))\n",
    "    \n",
    "    return actions\n",
    "\n",
    "\n",
    "def get_canada_actions() -> list:\n",
    "    \"\"\"\n",
    "    Ask the user questions related to actions against Canada.\n",
    "    \"\"\"\n",
    "\n",
    "    actions = []\n",
    "    for question in HIGH_TREASON_RULES[\"canada\"]:\n",
    "        response = input(question[0] + \" (yes/no): \")\n",
    "        if response.lower() == 'yes':\n",
    "            actions.append((\"canada\", question[1]))\n",
    "\n",
    "    return actions\n",
    "\n",
    "def high_treason_facts(victim_category) -> list:\n",
    "    \"\"\"\n",
    "    Asks the user questions to determine if the facts of the case make out the offence of high treason.\n",
    "    \"\"\"\n",
    "    actions = []\n",
    "\n",
    "    if victim_category.lower() == 'sovereign':\n",
    "        actions = get_sovereign_actions()\n",
    "    elif victim_category.lower() == 'canada':\n",
    "        actions = get_canada_actions()\n",
    "\n",
    "    return actions"
   ]
  },
  {
   "cell_type": "markdown",
   "id": "cad45e97-85da-469a-9f21-ba92630547f6",
   "metadata": {
    "tags": []
   },
   "source": [
    "## models.py\n",
    "\n",
    "Once the program gathers this information, it needs a place to store it. The Facts class takes this job on. The version below contemplates a few variables that aren't in use yet. Because this class is currently being used for just one offence, it only needs to be able to store the victim category and the defendant's actions."
   ]
  },
  {
   "cell_type": "code",
   "execution_count": 128,
   "id": "ce89e0a6-7e6b-452f-bfa5-29b6e8c24c71",
   "metadata": {},
   "outputs": [],
   "source": [
    "class Facts:\n",
    "    \"\"\"\n",
    "    A basic class capable of handling the minimum facts required for a high \n",
    "    treason offence.\n",
    "\n",
    "    Attributes:\n",
    "        victim_category (str): The name of the victim of the offence.\n",
    "        offence_date (str): The date of the offence.\n",
    "        jurisdiction (str): The jurisdiction in which the offence took place.\n",
    "        actions (list): A list of actions that the defendant took against the \n",
    "            victim.\n",
    "        role (list): A list of roles that the defendant played in the offence.\n",
    "\n",
    "    A Facts object should account for one offence and offender. Any potential\n",
    "    path to a conviction should be represented by a distinct Facts object. \n",
    "    Multiple offences or offenders should be represented by multiple Facts \n",
    "    objects.\n",
    "    \"\"\"\n",
    "\n",
    "    def __init__(self, \n",
    "                 victim_category: str, \n",
    "                 offence_date: str, \n",
    "                 jurisdiction: str, \n",
    "                 actions: list = None, \n",
    "                 role: list = None\n",
    "                ):\n",
    "        self.victim_category = victim_category\n",
    "        self.offence_date = offence_date\n",
    "        self.jurisdiction = jurisdiction\n",
    "        self.actions = actions if actions is not None else []\n",
    "        self.role = role if role is not None else []\n"
   ]
  },
  {
   "cell_type": "code",
   "execution_count": null,
   "id": "bc809444-42ec-4b42-91a8-8d193cd8986d",
   "metadata": {},
   "outputs": [],
   "source": []
  },
  {
   "cell_type": "markdown",
   "id": "ce829d90-dae1-4369-998c-5ff26f886521",
   "metadata": {},
   "source": [
    "## rules.py\n",
    "\n",
    "Once the factual matrix is put together, the program calls a rules function on those facts. This function first checks to see if the ```complainant_key``` matches either of the complainant categories in HIGH_TREASON_RULES. If so, the program checks to see if any of the facts attached to that key match the offence facts in HIGH_TREASON_RULES. If so, the function appends them to a list and returns it. If not, the function returns an empty list for the main function to interpret as a null result."
   ]
  },
  {
   "cell_type": "code",
   "execution_count": 116,
   "id": "b795b844-9a61-4a15-a852-e2299bba04a4",
   "metadata": {},
   "outputs": [],
   "source": [
    "'''\n",
    "Rules determining whether a factual matrix corresponds to offence elements.\n",
    "'''\n",
    "\n",
    "def high_treason_rules(facts):\n",
    "    \"\"\"\n",
    "    Checks if the facts of the case make out the offence of high treason.\n",
    "    \"\"\"\n",
    "    matches = []  # create an empty list to hold matches\n",
    "\n",
    "    # Check if any of the actions in the facts are in the list of high treason actions\n",
    "    for action in facts.actions:\n",
    "        complainant_key = action[0] \n",
    "        action_value = action[1]\n",
    "\n",
    "        if complainant_key in HIGH_TREASON_RULES: # Checks to see if the complainant category lines up with one of the two in HIGH_TREASON RULES\n",
    "            tuple_list = HIGH_TREASON_RULES[complainant_key]\n",
    "            for item in tuple_list:\n",
    "                if action_value == item[1]:\n",
    "                    matches.append(item)  # append the matching item to the list\n",
    "    return matches  # return the list of matches\n"
   ]
  },
  {
   "cell_type": "markdown",
   "id": "d35c6812-932a-41b4-96e6-e55cc5ab3659",
   "metadata": {},
   "source": [
    "## dev_models.py\n",
    "\n",
    "These models weren't used to develop the first few versions of the high treason system, but models like this will be needed to extend the system to other offences. It may be needed to extend the high treason system to account for elements like jurisdiction, punishment, procedure, etc."
   ]
  },
  {
   "cell_type": "code",
   "execution_count": 108,
   "id": "c5821f46-5e68-48fd-aba0-cefb06048813",
   "metadata": {},
   "outputs": [],
   "source": [
    "class Complainant:\n",
    "    \"\"\"\n",
    "    Creates a complainant instance. \n",
    "    \"\"\"\n",
    "    def __init__(self, name=None, age=None, category=None):\n",
    "        self.name = name\n",
    "        self.age = age\n",
    "        self.category = category\n",
    "\n",
    "class Defendant:\n",
    "    \"\"\"\n",
    "    Creates a defendant instance. Necessary to the extent that some offences \n",
    "    only apply to defendants with certain characteristics, and to the extent\n",
    "    that some offences will involve multiple defendants who need to be kept\n",
    "    distinct from one another.\n",
    "    \"\"\"\n",
    "    def __init__(self, name=None, age=None, liability=None, criminal_record=None):\n",
    "        self.name = name\n",
    "        self.age = age\n",
    "        self.liability = liability\n",
    "        self.criminal_record = criminal_record"
   ]
  },
  {
   "cell_type": "markdown",
   "id": "2f48e73f-425b-494f-8423-82e6da5f3712",
   "metadata": {
    "tags": []
   },
   "source": [
    "## input_correction.py"
   ]
  },
  {
   "cell_type": "code",
   "execution_count": 8,
   "id": "37976b7d-7ab5-4d74-86db-e1cd76f2cc33",
   "metadata": {},
   "outputs": [],
   "source": [
    "\"\"\"\n",
    "Functions used to process input strings and correct them to a standard format.\n",
    "\"\"\"\n",
    "\n",
    "# High treason\n",
    "\n",
    "def standardize_sovereign_names(name):\n",
    "    \"\"\"\n",
    "    This function takes a name and standardizes it to 'Sovereign' if it matches any of the known aliases.\n",
    "    \"\"\"\n",
    "    known_aliases = ('queen', 'king', 'queen elizabeth', 'king charles')\n",
    "    if name.lower() in known_aliases:\n",
    "        return 'sovereign'\n",
    "    else:\n",
    "        return name\n",
    "\n",
    "def standardize_canada_names(name):\n",
    "    \"\"\"\n",
    "    This function takes a name and standardizes it to 'Canada' if it matches any of the known aliases.\n",
    "    \"\"\"\n",
    "    known_aliases = ('nation of canada', 'canadian people', 'canadian military')\n",
    "    if name.lower() in known_aliases:\n",
    "        return 'canada'\n",
    "    else:\n",
    "        return name\n",
    "\n",
    "# Treason\n",
    "\n",
    "def treason_location_type(input_string: str) -> str:\n",
    "    \"\"\"\n",
    "    This function helps determine whether a string entity is a province or a \n",
    "    federally-regulated territory for the purpose of determining whether a \n",
    "    defendant has committed treason.\n",
    "    \"\"\"\n",
    "    input_string = input_string.replace('.', '')  # Remove periods from input\n",
    "\n",
    "    # Dictionary mapping province names, abbreviations and territory names, abbreviations to their corresponding types\n",
    "    locations = {\n",
    "        \"alberta\": \"province\",\n",
    "        \"ab\": \"province\",\n",
    "        \"alta\": \"province\",\n",
    "        \"british columbia\": \"province\",\n",
    "        \"bc\": \"province\",\n",
    "        \"manitoba\": \"province\",\n",
    "        \"mb\": \"province\",\n",
    "        \"man\": \"province\",\n",
    "        \"new brunswick\": \"province\",\n",
    "        \"nb\": \"province\",\n",
    "        \"newfoundland and labrador\": \"province\",\n",
    "        \"nl\": \"province\",\n",
    "        \"nova scotia\": \"province\",\n",
    "        \"ns\": \"province\",\n",
    "        \"ontario\": \"province\",\n",
    "        \"on\": \"province\",\n",
    "        \"ont\": \"province\",\n",
    "        \"prince edward island\": \"province\",\n",
    "        \"pei\": \"province\",\n",
    "        \"quebec\": \"province\",\n",
    "        \"qc\": \"province\",\n",
    "        \"que\": \"province\",\n",
    "        \"saskatchewan\": \"province\",\n",
    "        \"sk\": \"province\",\n",
    "        \"sask\": \"province\",\n",
    "        \"northwest territories\": \"canada\",\n",
    "        \"nt\": \"canada\",\n",
    "        \"nwt\": \"canada\",\n",
    "        \"nunavut\": \"canada\",\n",
    "        \"nu\": \"canada\",\n",
    "        \"nvt\": \"canada\",\n",
    "        \"yukon\": \"canada\",\n",
    "        \"yt\": \"canada\"\n",
    "    }\n",
    "\n",
    "    # Return the corresponding value if the input string is in the dictionary, else return \"Unknown\"\n",
    "    return locations.get(input_string.lower(), \"Unknown\")\n"
   ]
  },
  {
   "cell_type": "markdown",
   "id": "a3573126-b2ef-484a-b5c8-64310c558d85",
   "metadata": {
    "tags": []
   },
   "source": [
    "## main.py\n",
    "\n",
    "This function executes the program. It creates a Facts object by canvassing the minimum number of questions for the offence's factual matrix. Once created, Facts is passed to the rules set which returns the final result.\n",
    "\n",
    "The function is limited to high treason as defined in *Criminal Code* s 46, and thus has this rule set coded into tthe function. Future versions should modularize this rule set call."
   ]
  },
  {
   "cell_type": "code",
   "execution_count": 137,
   "id": "16d54340-daf8-4a7b-9b6c-a6cd734037d5",
   "metadata": {},
   "outputs": [],
   "source": [
    "def create_facts():\n",
    "    \"\"\"\n",
    "    Creates a Facts object that can then be read using the rule base.\n",
    "    \"\"\"\n",
    "\n",
    "    print(\"Please enter the facts of the case:\")\n",
    "\n",
    "    victim_category = input(\"Who is the victim? \")\n",
    "    victim_category = standardize_sovereign_names(victim_category)\n",
    "    victim_category = standardize_canada_names(victim_category)\n",
    "    complainant = Complainant(victim_category)\n",
    "\n",
    "    offence_date = input(\"Date of the offence (YYYY-MM-DD): \")\n",
    "    jurisdiction = input(\"Jurisdiction: \")\n",
    "\n",
    "    actions = high_treason_facts(victim_category)\n",
    "\n",
    "    return Facts(complainant.name, offence_date, jurisdiction, actions)\n",
    "\n",
    "def verify_high_treason(matches):\n",
    "    if matches:\n",
    "        print(\"High treason committed. Matches:\")\n",
    "        for match in matches:\n",
    "            print(match)\n",
    "    else:\n",
    "        print(\"No offence detected.\")\n",
    "\n",
    "def high_treason_system():\n",
    "\n",
    "    facts = create_facts()\n",
    "    matches = high_treason_rules(facts)\n",
    "    \n",
    "    verify_high_treason(matches)\n",
    "    \n",
    "    return matches"
   ]
  },
  {
   "cell_type": "code",
   "execution_count": 141,
   "id": "2ecb9806-963f-4cac-ba09-cd04b93c4883",
   "metadata": {},
   "outputs": [
    {
     "name": "stdout",
     "output_type": "stream",
     "text": [
      "Please enter the facts of the case:\n"
     ]
    },
    {
     "name": "stdin",
     "output_type": "stream",
     "text": [
      "Who is the victim?  queen\n",
      "Date of the offence (YYYY-MM-DD):  1992\n",
      "Jurisdiction:  canada\n",
      "Did the defendant kill the sovereign? (yes/no):  yes\n",
      "Did the defendant attempt to kill the sovereign? (yes/no):  no\n",
      "Did the defendant do bodily harm to the sovereign tending to cause death? (yes/no):  yes\n",
      "Did the defendant do bodily harm to the sovereign tending to cause destruction? (yes/no):  no\n",
      "Did the defendant maim the sovereign? (yes/no):  no\n",
      "Did the defendant wound the sovereign? (yes/no):  no\n",
      "Did the defendant imprison the sovereign? (yes/no):  no\n",
      "Did the defendant restrain the sovereign? (yes/no):  no\n"
     ]
    },
    {
     "name": "stdout",
     "output_type": "stream",
     "text": [
      "High treason committed. Matches:\n",
      "('Did the defendant kill the sovereign?', ['kill'])\n",
      "('Did the defendant do bodily harm to the sovereign tending to cause death?', ['bodily harm', 'tending to death'])\n"
     ]
    }
   ],
   "source": [
    "matches = high_treason_system()"
   ]
  },
  {
   "cell_type": "code",
   "execution_count": 142,
   "id": "d2d84bc1-ed57-4c81-9b96-de9172c63076",
   "metadata": {},
   "outputs": [
    {
     "name": "stdout",
     "output_type": "stream",
     "text": [
      "High treason committed. Matches:\n",
      "('Did the defendant kill the sovereign?', ['kill'])\n",
      "('Did the defendant do bodily harm to the sovereign tending to cause death?', ['bodily harm', 'tending to death'])\n"
     ]
    }
   ],
   "source": [
    "if matches:\n",
    "    print(\"High treason committed. Matches:\")\n",
    "    for match in matches:\n",
    "        print(match)\n",
    "else:\n",
    "    print(\"No offence detected.\")"
   ]
  }
 ],
 "metadata": {
  "kernelspec": {
   "display_name": "Python 3 (ipykernel)",
   "language": "python",
   "name": "python3"
  },
  "language_info": {
   "codemirror_mode": {
    "name": "ipython",
    "version": 3
   },
   "file_extension": ".py",
   "mimetype": "text/x-python",
   "name": "python",
   "nbconvert_exporter": "python",
   "pygments_lexer": "ipython3",
   "version": "3.9.2"
  }
 },
 "nbformat": 4,
 "nbformat_minor": 5
}
