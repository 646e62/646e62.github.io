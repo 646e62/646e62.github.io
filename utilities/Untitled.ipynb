{
 "cells": [
  {
   "cell_type": "code",
   "execution_count": 1,
   "id": "87964188-dd6d-4206-89a0-c052787dc09a",
   "metadata": {},
   "outputs": [
    {
     "name": "stdin",
     "output_type": "stream",
     "text": [
      "Please enter the English word or phrase:  act\n",
      "Please enter the English definition (separate list items with \";\"):  Act includes; (a) an Act of Parliament,; (b) an Act of the legislature of the former Province of Canada,; (c) an Act of the legislature of a province, and; (d) an Act or ordinance of the legislature of a province, territory or place in force at the time that province, territory or place became a province of Canada.\n",
      "Please enter the French definition (separate list items with \";\"):  S’entend notamment :;a) d’une loi fédérale;b) d’une loi de la législature de l’ancienne province du Canada;(c) an Act of the legislature of a province, andd) d’une loi ou ordonnance de la législature d’une province, d’un territoire ou d’un endroit, en vigueur au moment où cette province, ce territoire ou cet endroit est devenu une province du Canada.\n",
      "Please enter the French equivalent of the English key:  loi\n",
      "Do you want to enter another definition? (y/n):  n\n",
      "Please enter a dictionary name for the file:  act\n"
     ]
    },
    {
     "name": "stdout",
     "output_type": "stream",
     "text": [
      "Definitions have been written to /home/deinonychai/quarto/blog/utilities/act.txt\n"
     ]
    }
   ],
   "source": [
    "import os\n",
    "import json\n",
    "\n",
    "def format_definition(english_def, french_def, french_key):\n",
    "    return f'(\"{english_def}\", \"{french_def}\", \"{french_key}\")'\n",
    "\n",
    "\n",
    "def prompt_definition():\n",
    "    key = input('Please enter the English word or phrase: ')\n",
    "\n",
    "    english_def = input('Please enter the English definition (separate list items with \";\"): ')\n",
    "    english_def = english_def.replace('; ', '\",\\n\\t\"').replace(';', '\",\\n\\t\"')\n",
    "    \n",
    "    french_def = input('Please enter the French definition (separate list items with \";\"): ')\n",
    "    french_def = french_def.replace('; ', '\",\\n\\t\"').replace(';', '\",\\n\\t\"')\n",
    "    \n",
    "    french_key = input('Please enter the French equivalent of the English key: ')\n",
    "\n",
    "    return key, format_definition(english_def, french_def, french_key)\n",
    "\n",
    "\n",
    "def save_to_file(filename, data):\n",
    "    with open(filename, 'w', encoding='utf8') as f:\n",
    "        f.write(\"definitions = \")\n",
    "        f.write(json.dumps(data, indent=4, ensure_ascii=False))\n",
    "\n",
    "\n",
    "def main():\n",
    "    definitions = {}\n",
    "\n",
    "    while True:\n",
    "        key, definition = prompt_definition()\n",
    "        definitions[key] = definition\n",
    "\n",
    "        more = input('Do you want to enter another definition? (y/n): ')\n",
    "        if more.lower() != 'y':\n",
    "            break\n",
    "\n",
    "    filename = input('Please enter a dictionary name for the file: ')\n",
    "    filename = f\"{filename}.txt\"\n",
    "    save_to_file(filename, definitions)\n",
    "\n",
    "    print(f\"Definitions have been written to {os.path.abspath(filename)}\")\n",
    "\n",
    "\n",
    "if __name__ == '__main__':\n",
    "    main()\n"
   ]
  },
  {
   "cell_type": "code",
   "execution_count": null,
   "id": "93bcf5a0-c493-4350-9679-eeb512c15c62",
   "metadata": {},
   "outputs": [],
   "source": []
  }
 ],
 "metadata": {
  "kernelspec": {
   "display_name": "Python 3 (ipykernel)",
   "language": "python",
   "name": "python3"
  },
  "language_info": {
   "codemirror_mode": {
    "name": "ipython",
    "version": 3
   },
   "file_extension": ".py",
   "mimetype": "text/x-python",
   "name": "python",
   "nbconvert_exporter": "python",
   "pygments_lexer": "ipython3",
   "version": "3.9.2"
  }
 },
 "nbformat": 4,
 "nbformat_minor": 5
}
