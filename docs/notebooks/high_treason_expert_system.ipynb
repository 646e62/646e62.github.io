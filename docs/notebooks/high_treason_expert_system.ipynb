{
 "cells": [
  {
   "cell_type": "markdown",
   "id": "4cab21ea-66f1-439c-8a49-99d27d867a90",
   "metadata": {},
   "source": [
    "# [notebook] *Criminal Code* s 46 expert system example"
   ]
  },
  {
   "cell_type": "markdown",
   "id": "6971109f-65b4-4e90-902f-6db5e796ea61",
   "metadata": {},
   "source": []
  },
  {
   "cell_type": "code",
   "execution_count": null,
   "id": "f780faa5-335b-48d5-bb1c-e6829b553229",
   "metadata": {},
   "outputs": [],
   "source": [
    "HIGH_TREASON_RULES = {\n",
    "    \"sovereign\": [(\"Did the defendant kill the sovereign?\",\n",
    "                   [\"kill\"]),\n",
    "                  (\"Did the defendant attempt to kill the sovereign?\",\n",
    "                   [\"kill\", \"attempt\"]),\n",
    "                  (\"Did the defendant do bodily harm to the sovereign tending to cause death?\",\n",
    "                   [\"bodily harm\", \"tending to death\"]),\n",
    "                  (\"Did the defendant do bodily harm to the sovereign tending to cause destruction?\",\n",
    "                   [\"bodily harm\", \"tending to destruction\"]),\n",
    "                  (\"Did the defendant maim the sovereign?\",\n",
    "                   [\"maim\"]),\n",
    "                  (\"Did the defendant wound the sovereign?\",\n",
    "                   [\"wound\"]),\n",
    "                  (\"Did the defendant imprison the sovereign?\",\n",
    "                   [\"imprison\"]),\n",
    "                  (\"Did the defendant restrain the sovereign?\",\n",
    "                   [\"restrain\"])],\n",
    "    \"canada\": [(\"Did the defendant levy war against Canada?\",\n",
    "                [\"levy war\"]),\n",
    "               (\"Did the defendant prepare to levy war against Canada?\",\n",
    "                [\"prepare\", \"levy war\"]),\n",
    "               (\"Did the defendant assist an enemy at war with Canada?\",\n",
    "                [\"assist warring enemy\"]),\n",
    "               (\"Did the defendant assist an armed force hostily engaged with Canadian Forces?\",\n",
    "                [\"assist hostile force\"])]}"
   ]
  },
  {
   "cell_type": "markdown",
   "id": "4f0272eb-0a13-4170-bb07-24d5f54547fd",
   "metadata": {
    "tags": []
   },
   "source": [
    "# Program flow"
   ]
  },
  {
   "cell_type": "markdown",
   "id": "9c1dd905-99f6-4728-bf53-87304906217e",
   "metadata": {},
   "source": [
    "## facts.py"
   ]
  },
  {
   "cell_type": "code",
   "execution_count": null,
   "id": "cbd3e4ae-1915-4ee5-9b2a-08886393b064",
   "metadata": {},
   "outputs": [],
   "source": []
  },
  {
   "cell_type": "markdown",
   "id": "a3573126-b2ef-484a-b5c8-64310c558d85",
   "metadata": {},
   "source": [
    "## main.py\n",
    "\n",
    "This function executes the program. It creates a Facts object by canvassing the minimum number of questions for the offence's factual matrix. Once created, Facts is passed to the rules set which returns the final result.\n",
    "\n",
    "The function is limited to high treason as defined in *Criminal Code* s 46, and thus has this rule set coded into tthe function. Future versions should modularize this rule set call."
   ]
  },
  {
   "cell_type": "code",
   "execution_count": null,
   "id": "16d54340-daf8-4a7b-9b6c-a6cd734037d5",
   "metadata": {},
   "outputs": [],
   "source": [
    "from facts import high_treason_facts\n",
    "from rules import high_treason_rules\n",
    "from models import Facts, Complainant\n",
    "from input_correction import standardize_sovereign_names, standardize_canada_names\n",
    "\n",
    "\n",
    "def create_facts():\n",
    "    \"\"\"\n",
    "    Creates a Facts object that can then be read using the rule base.\n",
    "    \"\"\"\n",
    "\n",
    "    print(\"Please enter the facts of the case:\")\n",
    "\n",
    "    victim_name = input(\"Who is the victim? \")\n",
    "    victim_name = standardize_sovereign_names(victim_name)\n",
    "    victim_name = standardize_canada_names(victim_name)\n",
    "    complainant = Complainant(victim_name)\n",
    "\n",
    "    offence_date = input(\"Date of the offence (YYYY-MM-DD): \")\n",
    "    jurisdiction = input(\"Jurisdiction: \")\n",
    "\n",
    "    actions = high_treason_facts(victim_name)\n",
    "\n",
    "    return Facts(complainant.name, offence_date, jurisdiction, actions)\n",
    "\n",
    "facts = create_facts()\n",
    "\n",
    "if high_treason_rules(facts):\n",
    "    print(\"High treason committed.\")\n",
    "else:\n",
    "    print(\"No offence detected.\")"
   ]
  }
 ],
 "metadata": {
  "kernelspec": {
   "display_name": "Python 3 (ipykernel)",
   "language": "python",
   "name": "python3"
  },
  "language_info": {
   "codemirror_mode": {
    "name": "ipython",
    "version": 3
   },
   "file_extension": ".py",
   "mimetype": "text/x-python",
   "name": "python",
   "nbconvert_exporter": "python",
   "pygments_lexer": "ipython3",
   "version": "3.9.2"
  }
 },
 "nbformat": 4,
 "nbformat_minor": 5
}
